{
 "cells": [
  {
   "cell_type": "code",
   "execution_count": 84,
   "id": "718eb154-abec-475b-aa87-481a3b2b62db",
   "metadata": {
    "tags": []
   },
   "outputs": [
    {
     "name": "stdout",
     "output_type": "stream",
     "text": [
      "{\n",
      "    \"chest\": [\n",
      "        {\n",
      "            \"name\": \"Bench Press (Dumbbell)\"\n",
      "        },\n",
      "        {\n",
      "            \"name\": \"Chest Dip (Weighted)\"\n",
      "        },\n",
      "        {\n",
      "            \"name\": \"Incline Push Ups\"\n",
      "        },\n",
      "        {\n",
      "            \"name\": \"Floor Press (Barbell)\"\n",
      "        },\n",
      "        {\n",
      "            \"name\": \"Pendlay Row\"\n",
      "        },\n",
      "        {\n",
      "            \"name\": \"Bench Press - Wide Grip (Barbell)\"\n",
      "        },\n",
      "        {\n",
      "            \"name\": \"Plate Press\"\n",
      "        },\n",
      "        {\n",
      "            \"name\": \"Around The World\"\n",
      "        },\n",
      "        {\n",
      "            \"name\": \"Push Up (Weighted)\"\n",
      "        },\n",
      "        {\n",
      "            \"name\": \"Pullover (Dumbbell)\"\n",
      "        }\n",
      "    ]\n",
      "}\n"
     ]
    }
   ],
   "source": [
    "import requests\n",
    "from bs4 import BeautifulSoup\n",
    "import json\n",
    "\n",
    "ejercicios = []\n",
    "pasosdelejercicios = []\n",
    "nombredelejercicio = []\n",
    "\n",
    "    \n",
    "msc = {}\n",
    "\n",
    "body = [\"chest\"]\n",
    "#body = [\"chest\",\"shoulders\",\"traps\",\"biceps\",\"forearms\",\"obliques\",\"abdominals\",\"quads\",\"calves\",\"lats\",\"lowerback\",\"glutes\",\"hamstrings\",\"traps_middle\"]\n",
    "\n",
    "for mus in body:\n",
    "    # URL de la página web a scrappear\n",
    "    url = 'https://www.hevyapp.com/muscle/' + str(mus)\n",
    "\n",
    "    # Realizar la petición HTTP y obtener el contenido de la página web\n",
    "    response = requests.get(url)\n",
    "    html = response.content\n",
    "\n",
    "    # Crear el objeto BeautifulSoup y analizar el contenido HTML\n",
    "    soup = BeautifulSoup(html, 'html.parser')\n",
    "\n",
    "    # Buscar los elementos que contienen los ejercicios por músculo\n",
    "    msc[mus] = []\n",
    "    \n",
    "    muscles = soup.find_all('div', class_='exercises')\n",
    "   \n",
    "    \n",
    "\n",
    "    # Recorrer cada músculo encontrado e imprimir los ejercicios correspondientes\n",
    "    for muscle in muscles:\n",
    "        # Buscar los enlaces de los ejercicios correspondientes a este músculo\n",
    "        exercise = muscle.find('h4')\n",
    "        #print(exercise.find('a'))\n",
    "        try:\n",
    "            exercise_page = exercise.find('a')\n",
    "            link = exercise_page['href']\n",
    "            response2 = requests.get(link)\n",
    "            html2 = response2.content\n",
    "            exercise_page = BeautifulSoup(html2, 'html.parser')\n",
    "            for ex in exercise_page:\n",
    "                video = exercise_page.find_all('video')\n",
    "                videos = []\n",
    "                for v in video:\n",
    "                    link_video = v['src']\n",
    "                    videos.append(link_video)\n",
    "                descript = exercise_page.find_all('ol')\n",
    "                for desc in descript:\n",
    "                    descripciones = desc.find_all('li')\n",
    "                    muscle_steps = []  # Lista para almacenar los pasos del ejercicio actual\n",
    "                    for d in descripciones:\n",
    "                        muscle_steps.append(d.text)\n",
    "                    steps.append(muscle_steps)  # Agregar los pasos del ejercicio actual a la lista de pasos por músculo\n",
    "                    print(muscle_steps)\n",
    "        except:\n",
    "            pass\n",
    "       \n",
    "        \n",
    "        msc[mus].append({'name': exercise.text.replace('\\n', '').replace('Copied', '').strip()})   \n",
    "            \n",
    "print(json.dumps(msc, indent=4))\n",
    "with open('ejercicios.json', 'w') as f:\n",
    "    json.dump(msc, f, indent=4)"
   ]
  },
  {
   "cell_type": "code",
   "execution_count": 83,
   "id": "d2cbe1af-27d1-46e3-a0d9-bd200b68e277",
   "metadata": {
    "collapsed": true,
    "jupyter": {
     "outputs_hidden": true,
     "source_hidden": true
    },
    "tags": []
   },
   "outputs": [
    {
     "name": "stdout",
     "output_type": "stream",
     "text": [
      "['Set an adjustable gym bench into a flat position.', 'Grab a pair of dumbbells, sit on the gym bench, and place both weights on top of your thighs.', 'Bring your shoulders back, engage your abs, take a breath, and flex your arms.', 'Kick both dumbbells up with your thighs as you lie back. Doing so will allow you to get in position on the bench and position the dumbbells over your chest.\\xa0', 'With your arms straight and dumbbells over your chest, dig your shoulder blades into the bench and place your feet flat on the floor.\\xa0', 'Take another breath and lower both dumbbells to your sides. Keep your elbows somewhat tucked; avoid flaring them to your sides.', 'Lower the weights until your elbows are at torso level, and hold the bottom position for a second.', 'Press both dumbbells to the starting position, bringing them together and straightening your arms. Exhale near the top.', 'Take another breath and repeat.']\n",
      "[' https://pump-app.s3.eu-west-2.amazonaws.com/exercise-assets/02891201-Dumbbell-Bench-Press_Chest.mp4']\n"
     ]
    }
   ],
   "source": [
    "            response2 = requests.get('https://www.hevyapp.com/exercises/bench-press-dumbbell/')\n",
    "            html2 = response2.content\n",
    "            exercise_page = BeautifulSoup(html2, 'html.parser')\n",
    "            video = exercise_page.find_all('video')\n",
    "            videos = []\n",
    "            for v in video:\n",
    "                link_video = v['src']\n",
    "                videos.append(link_video)\n",
    "            descript = exercise_page.find_all('ol')\n",
    "            for desc in descript:\n",
    "                descripciones = desc.find_all('li')\n",
    "                muscle_steps = []  # Lista para almacenar los pasos del ejercicio actual\n",
    "                for d in descripciones:\n",
    "                    muscle_steps.append(d.text)\n",
    "                steps.append(muscle_steps)  # Agregar los pasos del ejercicio actual a la lista de pasos por músculo"
   ]
  },
  {
   "cell_type": "code",
   "execution_count": null,
   "id": "e68db18a-f01d-47b9-a505-7e5b277ca0e0",
   "metadata": {},
   "outputs": [],
   "source": []
  }
 ],
 "metadata": {
  "kernelspec": {
   "display_name": "Python 3",
   "language": "python",
   "name": "python3"
  },
  "language_info": {
   "codemirror_mode": {
    "name": "ipython",
    "version": 3
   },
   "file_extension": ".py",
   "mimetype": "text/x-python",
   "name": "python",
   "nbconvert_exporter": "python",
   "pygments_lexer": "ipython3",
   "version": "3.8.8"
  }
 },
 "nbformat": 4,
 "nbformat_minor": 5
}
